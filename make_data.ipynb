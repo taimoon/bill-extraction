{
 "cells": [
  {
   "cell_type": "code",
   "execution_count": 1,
   "metadata": {},
   "outputs": [],
   "source": [
    "from PIL import Image\n",
    "import pytesseract\n",
    "import json\n",
    "from glob import glob\n",
    "pytesseract.pytesseract.tesseract_cmd = r\"C:\\Program Files\\Tesseract-OCR\\tesseract.exe\"\n",
    "custom_config = r'-l eng --oem 3 --psm 6'"
   ]
  },
  {
   "cell_type": "code",
   "execution_count": 3,
   "metadata": {},
   "outputs": [],
   "source": [
    "import os\n",
    "texts = []\n",
    "for img_file_path in glob(r'ICDAR-2019-SROIE\\data\\img\\*.jpg'):\n",
    "    \n",
    "    root,file_name = os.path.split(img_file_path)\n",
    "    id,_ = os.path.splitext(file_name)\n",
    "    \n",
    "    \n",
    "    img = Image.open(img_file_path)\n",
    "    text = pytesseract.image_to_string(img,config=custom_config)\n",
    "    text = text.replace('\\t',' ').replace('\\n', ' ')\n",
    "    \n",
    "    label_path = fr'ICDAR-2019-SROIE\\data\\key\\{id}.json'\n",
    "\n",
    "    with open(label_path) as fp:\n",
    "        label = json.load(fp)\n",
    "        \n",
    "    text = text + '\\t' + str(label) + '\\n'\n",
    "    \n",
    "    with open('data\\ocr-json.txt','a+') as fp:\n",
    "        fp.write(text)\n",
    "    break"
   ]
  }
 ],
 "metadata": {
  "kernelspec": {
   "display_name": "Python 3",
   "language": "python",
   "name": "python3"
  },
  "language_info": {
   "codemirror_mode": {
    "name": "ipython",
    "version": 3
   },
   "file_extension": ".py",
   "mimetype": "text/x-python",
   "name": "python",
   "nbconvert_exporter": "python",
   "pygments_lexer": "ipython3",
   "version": "3.10.11"
  },
  "orig_nbformat": 4
 },
 "nbformat": 4,
 "nbformat_minor": 2
}
