{
 "cells": [
  {
   "cell_type": "code",
   "execution_count": 1,
   "metadata": {},
   "outputs": [],
   "source": [
    "from PIL import Image\n",
    "import pytesseract\n",
    "import json"
   ]
  },
  {
   "cell_type": "code",
   "execution_count": 2,
   "metadata": {},
   "outputs": [],
   "source": [
    "import configparser\n",
    "config = configparser.ConfigParser()\n",
    "config.read('config.ini')\n",
    "pytesseract.pytesseract.tesseract_cmd = config['DEFAULT']['tesseract_cmd']\n",
    "custom_config = config['DEFAULT']['tesseract_config']"
   ]
  },
  {
   "cell_type": "code",
   "execution_count": 3,
   "metadata": {},
   "outputs": [],
   "source": [
    "# loading data\n",
    "texts = []\n",
    "\n",
    "id = '004'\n",
    "id = '009'\n",
    "id = '013'\n",
    "id = '015'\n",
    "# id = '019'\n",
    "# img_file_path = fr'ICDAR-2019-SROIE/data/img/{id}.jpg'\n",
    "# key_file_path = fr'ICDAR-2019-SROIE/data/key/{id}.json'\n",
    "\n",
    "img_file_path = fr'data/example data/{id}.jpg'\n",
    "key_file_path = fr'data/example data/{id}.json'\n",
    "\n",
    "\n",
    "\n",
    "img = Image.open(img_file_path)\n",
    "\n",
    "text = pytesseract.image_to_string(img,config=custom_config)\n",
    "text = text.replace('\\t',' ').replace('\\n', ' ')\n",
    "\n",
    "with open(key_file_path) as fp:\n",
    "    label = json.load(fp)\n",
    "    \n",
    "print('ocr result : ',text)\n",
    "print('label : ', label)\n",
    "img"
   ]
  },
  {
   "cell_type": "code",
   "execution_count": 5,
   "metadata": {},
   "outputs": [
    {
     "name": "stdout",
     "output_type": "stream",
     "text": [
      "start extracting\n",
      "ocr result : \n",
      "HORE MASTER HARDWARE & ELECTRICAL | NO113G &115G, JALAN SETIA GEMBILANG | U1WHG BANDAR SETIA ALAM, 40170 BANDAR SETIA ALAM, SELANGOR. Company Reg No. SA03711951-F GST Reg No. 001637511168 TAX IROICE Involee Mo: C3. 47832 Date: 22/12/2017 14:03 Cashler #: CASHIER RM Code 24NIMN7Y M.ONE TAPE 1.00 ¥ 19.90 15.90 SR Subtotal : 15.90 TotalExclofGST  -—S>—15.00 Total Incl, of GST 15.90 TotalAmtRounded «15.90 Payment : 50.00 Change Due : 34.10 . Total item(e) : 1 G utimary Amouni(RM) Tax (RM) SR @e% 18.00 0.90 SMU REF arasgepyi RN ARY GOODS RETURN PLEASE 00 WITHIN 7 DAYS WITH ORIGINAL RECEIPT Ta” \n",
      "target :\n",
      "{'company': 'HOME MASTER HARDWARE & ELECTRICAL', 'date': '22/12/2017', 'address': 'NO.113G & 115G, JALAN SETIA GEMBILANG U13/BG BANDAR SETIA ALAM, 40170 BANDAR SETIA ALAM, SELANGOR.', 'total': '15.90'}\n",
      "exracted : \n",
      "{'company': 'unihakka international sdn bhd', 'date': 'date': 'address': 'lot 'lot jalan jalan tampoi 7/4,kawasan perindustrian tampoi,81200 johor bahru,johor', 'total': 'total': <EOS>\n"
     ]
    }
   ],
   "source": [
    "from model.seq2seq_model import normalizeString,load_checkpoint_model,evaluate,device\n",
    "print('start extracting')\n",
    "print('ocr result : ')\n",
    "print(text)\n",
    "print('target :')\n",
    "print(label)\n",
    "\n",
    "input_sentence = normalizeString(text)\n",
    "target = normalizeString(str(label))\n",
    "encoder1, attn_decoder1 = load_checkpoint_model()\n",
    "\n",
    "output_words, attentions = evaluate(encoder1, attn_decoder1, input_sentence)\n",
    "print('exracted : ')\n",
    "print(' '.join(output_words))"
   ]
  }
 ],
 "metadata": {
  "kernelspec": {
   "display_name": "Python 3",
   "language": "python",
   "name": "python3"
  },
  "language_info": {
   "codemirror_mode": {
    "name": "ipython",
    "version": 3
   },
   "file_extension": ".py",
   "mimetype": "text/x-python",
   "name": "python",
   "nbconvert_exporter": "python",
   "pygments_lexer": "ipython3",
   "version": "3.10.11"
  },
  "orig_nbformat": 4
 },
 "nbformat": 4,
 "nbformat_minor": 2
}
