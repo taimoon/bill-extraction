{
  "cells": [
    {
      "cell_type": "code",
      "execution_count": 32,
      "metadata": {
        "collapsed": false
      },
      "outputs": [],
      "source": [
        "# For tips on running notebooks in Google Colab, see\n",
        "# https://pytorch.org/tutorials/beginner/colab\n",
        "# %matplotlib inline"
      ]
    },
    {
      "attachments": {},
      "cell_type": "markdown",
      "metadata": {},
      "source": [
        "\n",
        "# NLP From Scratch: Translation with a Sequence to Sequence Network and Attention\n",
        "**Author**: [Sean Robertson](https://github.com/spro/practical-pytorch)\n",
        "\n",
        "reference : https://github.com/spro/practical-pytorch/tree/master/seq2seq-translation\n",
        "\n",
        "This is the third and final tutorial on doing \"NLP From Scratch\", where we\n",
        "write our own classes and functions to preprocess the data to do our NLP\n",
        "modeling tasks. We hope after you complete this tutorial that you'll proceed to\n",
        "learn how `torchtext` can handle much of this preprocessing for you in the\n",
        "three tutorials immediately following this one.\n",
        "\n",
        "In this project we will be teaching a neural network to translate from\n",
        "French to English.\n",
        "\n",
        "::\n",
        "\n",
        "    [KEY: > input, = target, < output]\n",
        "\n",
        "    > il est en train de peindre un tableau .\n",
        "    = he is painting a picture .\n",
        "    < he is painting a picture .\n",
        "\n",
        "    > pourquoi ne pas essayer ce vin delicieux ?\n",
        "    = why not try that delicious wine ?\n",
        "    < why not try that delicious wine ?\n",
        "\n",
        "    > elle n est pas poete mais romanciere .\n",
        "    = she is not a poet but a novelist .\n",
        "    < she not not a poet but a novelist .\n",
        "\n",
        "    > vous etes trop maigre .\n",
        "    = you re too skinny .\n",
        "    < you re all alone .\n",
        "\n",
        "... to varying degrees of success.\n",
        "\n",
        "This is made possible by the simple but powerful idea of the [sequence\n",
        "to sequence network](https://arxiv.org/abs/1409.3215)_, in which two\n",
        "recurrent neural networks work together to transform one sequence to\n",
        "another. An encoder network condenses an input sequence into a vector,\n",
        "and a decoder network unfolds that vector into a new sequence.\n",
        "\n",
        ".. figure:: /_static/img/seq-seq-images/seq2seq.png\n",
        "   :alt:\n",
        "\n",
        "To improve upon this model we'll use an [attention\n",
        "mechanism](https://arxiv.org/abs/1409.0473)_, which lets the decoder\n",
        "learn to focus over a specific range of the input sequence.\n",
        "\n",
        "**Recommended Reading:**\n",
        "\n",
        "I assume you have at least installed PyTorch, know Python, and\n",
        "understand Tensors:\n",
        "\n",
        "-  https://pytorch.org/ For installation instructions\n",
        "-  :doc:`/beginner/deep_learning_60min_blitz` to get started with PyTorch in general\n",
        "-  :doc:`/beginner/pytorch_with_examples` for a wide and deep overview\n",
        "-  :doc:`/beginner/former_torchies_tutorial` if you are former Lua Torch user\n",
        "\n",
        "\n",
        "It would also be useful to know about Sequence to Sequence networks and\n",
        "how they work:\n",
        "\n",
        "-  [Learning Phrase Representations using RNN Encoder-Decoder for\n",
        "   Statistical Machine Translation](https://arxiv.org/abs/1406.1078)_\n",
        "-  [Sequence to Sequence Learning with Neural\n",
        "   Networks](https://arxiv.org/abs/1409.3215)_\n",
        "-  [Neural Machine Translation by Jointly Learning to Align and\n",
        "   Translate](https://arxiv.org/abs/1409.0473)_\n",
        "-  [A Neural Conversational Model](https://arxiv.org/abs/1506.05869)_\n",
        "\n",
        "You will also find the previous tutorials on\n",
        ":doc:`/intermediate/char_rnn_classification_tutorial`\n",
        "and :doc:`/intermediate/char_rnn_generation_tutorial`\n",
        "helpful as those concepts are very similar to the Encoder and Decoder\n",
        "models, respectively.\n",
        "\n",
        "**Requirements**\n"
      ]
    },
    {
      "cell_type": "code",
      "execution_count": 33,
      "metadata": {
        "collapsed": false
      },
      "outputs": [],
      "source": [
        "from __future__ import unicode_literals, print_function, division\n",
        "from io import open\n",
        "import unicodedata\n",
        "import string\n",
        "import re\n",
        "import random\n",
        "\n",
        "import torch\n",
        "import torch.nn as nn\n",
        "from torch import optim\n",
        "import torch.nn.functional as F\n",
        "\n",
        "device = torch.device(\"cuda\" if torch.cuda.is_available() else \"cpu\")"
      ]
    },
    {
      "attachments": {},
      "cell_type": "markdown",
      "metadata": {},
      "source": [
        "## Loading data files\n",
        "\n",
        "The data for this project is a set of many thousands of English to\n",
        "French translation pairs.\n",
        "\n",
        "[This question on Open Data Stack\n",
        "Exchange](https://opendata.stackexchange.com/questions/3888/dataset-of-sentences-translated-into-many-languages)_\n",
        "pointed me to the open translation site https://tatoeba.org/ which has\n",
        "downloads available at https://tatoeba.org/eng/downloads - and better\n",
        "yet, someone did the extra work of splitting language pairs into\n",
        "individual text files here: https://www.manythings.org/anki/\n",
        "\n",
        "The English to French pairs are too big to include in the repository, so\n",
        "download to ``data/eng-fra.txt`` before continuing. The file is a tab\n",
        "separated list of translation pairs:\n",
        "\n",
        "::\n",
        "\n",
        "    I am cold.    J'ai froid.\n",
        "\n",
        ".. Note::\n",
        "   Download the data from\n",
        "   [here](https://download.pytorch.org/tutorial/data.zip)\n",
        "   and extract it to the current directory.\n",
        "\n"
      ]
    },
    {
      "attachments": {},
      "cell_type": "markdown",
      "metadata": {},
      "source": [
        "Similar to the character encoding used in the character-level RNN\n",
        "tutorials, we will be representing each word in a language as a one-hot\n",
        "vector, or giant vector of zeros except for a single one (at the index\n",
        "of the word). Compared to the dozens of characters that might exist in a\n",
        "language, there are many many more words, so the encoding vector is much\n",
        "larger. We will however cheat a bit and trim the data to only use a few\n",
        "thousand words per language.\n",
        "\n",
        ".. figure:: /_static/img/seq-seq-images/word-encoding.png\n",
        "   :alt:\n",
        "\n",
        "\n",
        "\n"
      ]
    },
    {
      "attachments": {},
      "cell_type": "markdown",
      "metadata": {},
      "source": [
        "We'll need a unique index per word to use as the inputs and targets of\n",
        "the networks later. To keep track of all this we will use a helper class\n",
        "called ``Lang`` which has word → index (``word2index``) and index → word\n",
        "(``index2word``) dictionaries, as well as a count of each word\n",
        "``word2count`` which will be used to replace rare words later.\n",
        "\n",
        "\n"
      ]
    },
    {
      "cell_type": "code",
      "execution_count": 34,
      "metadata": {
        "collapsed": false
      },
      "outputs": [],
      "source": [
        "SOS_token = 0\n",
        "EOS_token = 1\n",
        "\n",
        "\n",
        "class Lang:\n",
        "    def __init__(self, name):\n",
        "        self.name = name\n",
        "        self.word2index = {}\n",
        "        self.word2count = {}\n",
        "        self.index2word = {0: \"SOS\", 1: \"EOS\", 2 : \"UNDETERMINED\"}\n",
        "        self.n_words = len(self.index2word)\n",
        "\n",
        "    def addSentence(self, sentence):\n",
        "        for word in sentence.split(' '):\n",
        "            self.addWord(word)\n",
        "\n",
        "    @property\n",
        "    def undetermined_code(self):\n",
        "        return 2\n",
        "    \n",
        "    def addWord(self, word):\n",
        "        if word not in self.word2index:\n",
        "            self.word2index[word] = self.n_words\n",
        "            self.word2count[word] = 1\n",
        "            self.index2word[self.n_words] = word\n",
        "            self.n_words += 1\n",
        "        else:\n",
        "            self.word2count[word] += 1"
      ]
    },
    {
      "attachments": {},
      "cell_type": "markdown",
      "metadata": {},
      "source": [
        "The files are all in Unicode, to simplify we will turn Unicode\n",
        "characters to ASCII, make everything lowercase, and trim most\n",
        "punctuation.\n",
        "\n",
        "\n"
      ]
    },
    {
      "cell_type": "code",
      "execution_count": 35,
      "metadata": {
        "collapsed": false
      },
      "outputs": [],
      "source": [
        "# Turn a Unicode string to plain ASCII, thanks to\n",
        "# https://stackoverflow.com/a/518232/2809427\n",
        "def unicodeToAscii(s):\n",
        "    return ''.join(\n",
        "        c for c in unicodedata.normalize('NFD', s)\n",
        "        if unicodedata.category(c) != 'Mn'\n",
        "    )\n",
        "\n",
        "# Lowercase, trim, and remove non-letter characters\n",
        "\n",
        "\n",
        "def normalizeString(s):\n",
        "    s = unicodeToAscii(s.lower().strip())\n",
        "    # s = re.sub(r\"([.!?])\", r\" \\1\", s)\n",
        "    # s = re.sub(r\"[^a-zA-Z.!?]+\", r\" \", s)\n",
        "    return s"
      ]
    },
    {
      "attachments": {},
      "cell_type": "markdown",
      "metadata": {},
      "source": [
        "To read the data file we will split the file into lines, and then split\n",
        "lines into pairs. The files are all English → Other Language, so if we\n",
        "want to translate from Other Language → English I added the ``reverse``\n",
        "flag to reverse the pairs.\n",
        "\n",
        "\n"
      ]
    },
    {
      "cell_type": "code",
      "execution_count": 36,
      "metadata": {
        "collapsed": false
      },
      "outputs": [],
      "source": [
        "def readLangs(lang1, lang2, reverse=False):\n",
        "    print(\"Reading lines...\")\n",
        "\n",
        "    # Read the file and split into lines\n",
        "    lines = open('data/%s-%s.txt' % (lang1, lang2), encoding='utf-8').\\\n",
        "        read().strip().split('\\n')\n",
        "\n",
        "    # Split every line into pairs and normalize\n",
        "    pairs = [[normalizeString(s) for s in l.split('\\t')] for l in lines]\n",
        "\n",
        "    # Reverse pairs, make Lang instances\n",
        "    if reverse:\n",
        "        pairs = [list(reversed(p)) for p in pairs]\n",
        "        input_lang = Lang(lang2)\n",
        "        output_lang = Lang(lang1)\n",
        "    else:\n",
        "        input_lang = Lang(lang1)\n",
        "        output_lang = Lang(lang2)\n",
        "\n",
        "    return input_lang, output_lang, pairs"
      ]
    },
    {
      "attachments": {},
      "cell_type": "markdown",
      "metadata": {},
      "source": [
        "Since there are a *lot* of example sentences and we want to train\n",
        "something quickly, we'll trim the data set to only relatively short and\n",
        "simple sentences. Here the maximum length is 10 words (that includes\n",
        "ending punctuation) and we're filtering to sentences that translate to\n",
        "the form \"I am\" or \"He is\" etc. (accounting for apostrophes replaced\n",
        "earlier).\n",
        "\n",
        "\n"
      ]
    },
    {
      "cell_type": "code",
      "execution_count": 37,
      "metadata": {
        "collapsed": false
      },
      "outputs": [],
      "source": [
        "MAX_LENGTH = int(1e4)\n",
        "\n",
        "eng_prefixes = (\n",
        "    \"i am \", \"i m \",\n",
        "    \"he is\", \"he s \",\n",
        "    \"she is\", \"she s \",\n",
        "    \"you are\", \"you re \",\n",
        "    \"we are\", \"we re \",\n",
        "    \"they are\", \"they re \"\n",
        ")\n",
        "\n",
        "\n",
        "def filterPair(p):\n",
        "    return len(p[0].split(' ')) < MAX_LENGTH and \\\n",
        "        len(p[1].split(' ')) < MAX_LENGTH\n",
        "        # p[1].startswith(eng_prefixes)\n",
        "\n",
        "\n",
        "def filterPairs(pairs):\n",
        "    return [pair for pair in pairs if filterPair(pair)]"
      ]
    },
    {
      "attachments": {},
      "cell_type": "markdown",
      "metadata": {},
      "source": [
        "The full process for preparing the data is:\n",
        "\n",
        "-  Read text file and split into lines, split lines into pairs\n",
        "-  Normalize text, filter by length and content\n",
        "-  Make word lists from sentences in pairs\n",
        "\n",
        "\n"
      ]
    },
    {
      "cell_type": "code",
      "execution_count": 38,
      "metadata": {
        "collapsed": false
      },
      "outputs": [
        {
          "name": "stdout",
          "output_type": "stream",
          "text": [
            "Reading lines...\n",
            "Read 626 sentence pairs\n",
            "Trimmed to 626 sentence pairs\n",
            "Counting words...\n",
            "Counted words:\n",
            "ocr 19011\n",
            "json 2584\n",
            "[\"g alaf restaurants sdn bhd | (65351-m) | formerly known as coiden arches restaurants sdn bhd licensee of mcdonald's . evel 6, bangunan th, damansara uptown3 no.3, jalan $$21/39,47400 petaling jaya selangor (gst id no: 000504664064) {edonald's rawang dt(#188) ; tel no. 03-6092-1968 tax invoice mfy side 1 t inv 004881904569068 ord #15 -reg #19- 02/03/2018 12:59:16 qty item total , 1 l mcchicken 11.10 1 l coke 1l fries | 1 6nuggets 7.50 1 barbecue sauce i ayamgoreng( 14) .90 takeout total (incl gst) 28.50 total rounded 28.50 cash tendered 50 00 seen ch. 21,50 ss total includes 6% gst 1.61 hack you and please come again.\", \"{'company': 'gerbang alaf restaurants sdn bhd', 'date': '02/03/2018', 'address': 'level 6, bangunan th, damansara uptown3 no.3, jalan ss21/39, 47400 petaling jaya selangor', 'total': '28.50'}\"]\n"
          ]
        }
      ],
      "source": [
        "def prepareData(lang1, lang2, reverse=False):\n",
        "    input_lang, output_lang, pairs = readLangs(lang1, lang2, reverse)\n",
        "    print(\"Read %s sentence pairs\" % len(pairs))\n",
        "    pairs = filterPairs(pairs)\n",
        "    print(\"Trimmed to %s sentence pairs\" % len(pairs))\n",
        "    print(\"Counting words...\")\n",
        "    for pair in pairs:\n",
        "        input_lang.addSentence(pair[0])\n",
        "        output_lang.addSentence(pair[1])\n",
        "    print(\"Counted words:\")\n",
        "    print(input_lang.name, input_lang.n_words)\n",
        "    print(output_lang.name, output_lang.n_words)\n",
        "    return input_lang, output_lang, pairs\n",
        "\n",
        "\n",
        "# input_lang, output_lang, pairs = prepareData('eng', 'fra', True)\n",
        "input_lang, output_lang, pairs = prepareData('ocr', 'json', False)\n",
        "assert(len(pairs) == 626)\n",
        "print(random.choice(pairs))"
      ]
    },
    {
      "cell_type": "code",
      "execution_count": 39,
      "metadata": {},
      "outputs": [
        {
          "data": {
            "text/plain": [
              "(<__main__.Lang at 0x1ef3bb17f70>, <__main__.Lang at 0x1efebc47ca0>, 626)"
            ]
          },
          "execution_count": 39,
          "metadata": {},
          "output_type": "execute_result"
        }
      ],
      "source": [
        "input_lang,output_lang,len(pairs)"
      ]
    },
    {
      "attachments": {},
      "cell_type": "markdown",
      "metadata": {},
      "source": [
        "## The Seq2Seq Model\n",
        "\n",
        "A Recurrent Neural Network, or RNN, is a network that operates on a\n",
        "sequence and uses its own output as input for subsequent steps.\n",
        "\n",
        "A [Sequence to Sequence network](https://arxiv.org/abs/1409.3215)_, or\n",
        "seq2seq network, or [Encoder Decoder\n",
        "network](https://arxiv.org/pdf/1406.1078v3.pdf)_, is a model\n",
        "consisting of two RNNs called the encoder and decoder. The encoder reads\n",
        "an input sequence and outputs a single vector, and the decoder reads\n",
        "that vector to produce an output sequence.\n",
        "\n",
        ".. figure:: /_static/img/seq-seq-images/seq2seq.png\n",
        "   :alt:\n",
        "\n",
        "Unlike sequence prediction with a single RNN, where every input\n",
        "corresponds to an output, the seq2seq model frees us from sequence\n",
        "length and order, which makes it ideal for translation between two\n",
        "languages.\n",
        "\n",
        "Consider the sentence ``Je ne suis pas le chat noir`` → ``I am not the\n",
        "black cat``. Most of the words in the input sentence have a direct\n",
        "translation in the output sentence, but are in slightly different\n",
        "orders, e.g. ``chat noir`` and ``black cat``. Because of the ``ne/pas``\n",
        "construction there is also one more word in the input sentence. It would\n",
        "be difficult to produce a correct translation directly from the sequence\n",
        "of input words.\n",
        "\n",
        "With a seq2seq model the encoder creates a single vector which, in the\n",
        "ideal case, encodes the \"meaning\" of the input sequence into a single\n",
        "vector — a single point in some N dimensional space of sentences.\n",
        "\n",
        "\n"
      ]
    },
    {
      "attachments": {},
      "cell_type": "markdown",
      "metadata": {},
      "source": [
        "### The Encoder\n",
        "\n",
        "The encoder of a seq2seq network is a RNN that outputs some value for\n",
        "every word from the input sentence. For every input word the encoder\n",
        "outputs a vector and a hidden state, and uses the hidden state for the\n",
        "next input word.\n",
        "\n",
        ".. figure:: /_static/img/seq-seq-images/encoder-network.png\n",
        "   :alt:\n",
        "\n",
        "\n",
        "\n"
      ]
    },
    {
      "cell_type": "code",
      "execution_count": 40,
      "metadata": {
        "collapsed": false
      },
      "outputs": [],
      "source": [
        "class EncoderRNN(nn.Module):\n",
        "    def __init__(self, input_size, hidden_size):\n",
        "        super(EncoderRNN, self).__init__()\n",
        "        self.hidden_size = hidden_size\n",
        "\n",
        "        self.embedding = nn.Embedding(input_size, hidden_size)\n",
        "        self.gru = nn.GRU(hidden_size, hidden_size)\n",
        "\n",
        "    def forward(self, input, hidden):\n",
        "        embedded = self.embedding(input).view(1, 1, -1)\n",
        "        output = embedded\n",
        "        output, hidden = self.gru(output, hidden)\n",
        "        return output, hidden\n",
        "\n",
        "    def initHidden(self):\n",
        "        return torch.zeros(1, 1, self.hidden_size, device=device)"
      ]
    },
    {
      "attachments": {},
      "cell_type": "markdown",
      "metadata": {},
      "source": [
        "### The Decoder\n",
        "\n",
        "The decoder is another RNN that takes the encoder output vector(s) and\n",
        "outputs a sequence of words to create the translation.\n",
        "\n",
        "\n"
      ]
    },
    {
      "attachments": {},
      "cell_type": "markdown",
      "metadata": {},
      "source": [
        "#### Simple Decoder\n",
        "\n",
        "In the simplest seq2seq decoder we use only last output of the encoder.\n",
        "This last output is sometimes called the *context vector* as it encodes\n",
        "context from the entire sequence. This context vector is used as the\n",
        "initial hidden state of the decoder.\n",
        "\n",
        "At every step of decoding, the decoder is given an input token and\n",
        "hidden state. The initial input token is the start-of-string ``<SOS>``\n",
        "token, and the first hidden state is the context vector (the encoder's\n",
        "last hidden state).\n",
        "\n",
        ".. figure:: /_static/img/seq-seq-images/decoder-network.png\n",
        "   :alt:\n",
        "\n",
        "\n",
        "\n"
      ]
    },
    {
      "cell_type": "code",
      "execution_count": 41,
      "metadata": {
        "collapsed": false
      },
      "outputs": [],
      "source": [
        "class DecoderRNN(nn.Module):\n",
        "    def __init__(self, hidden_size, output_size):\n",
        "        super(DecoderRNN, self).__init__()\n",
        "        self.hidden_size = hidden_size\n",
        "\n",
        "        self.embedding = nn.Embedding(output_size, hidden_size)\n",
        "        self.gru = nn.GRU(hidden_size, hidden_size)\n",
        "        self.out = nn.Linear(hidden_size, output_size)\n",
        "        self.softmax = nn.LogSoftmax(dim=1)\n",
        "\n",
        "    def forward(self, input, hidden):\n",
        "        output = self.embedding(input).view(1, 1, -1)\n",
        "        output = F.relu(output)\n",
        "        output, hidden = self.gru(output, hidden)\n",
        "        output = self.softmax(self.out(output[0]))\n",
        "        return output, hidden\n",
        "\n",
        "    def initHidden(self):\n",
        "        return torch.zeros(1, 1, self.hidden_size, device=device)"
      ]
    },
    {
      "attachments": {},
      "cell_type": "markdown",
      "metadata": {},
      "source": [
        "I encourage you to train and observe the results of this model, but to\n",
        "save space we'll be going straight for the gold and introducing the\n",
        "Attention Mechanism.\n",
        "\n",
        "\n"
      ]
    },
    {
      "attachments": {},
      "cell_type": "markdown",
      "metadata": {},
      "source": [
        "#### Attention Decoder\n",
        "\n",
        "If only the context vector is passed between the encoder and decoder,\n",
        "that single vector carries the burden of encoding the entire sentence.\n",
        "\n",
        "Attention allows the decoder network to \"focus\" on a different part of\n",
        "the encoder's outputs for every step of the decoder's own outputs. First\n",
        "we calculate a set of *attention weights*. These will be multiplied by\n",
        "the encoder output vectors to create a weighted combination. The result\n",
        "(called ``attn_applied`` in the code) should contain information about\n",
        "that specific part of the input sequence, and thus help the decoder\n",
        "choose the right output words.\n",
        "\n",
        ".. figure:: https://i.imgur.com/1152PYf.png\n",
        "   :alt:\n",
        "\n",
        "Calculating the attention weights is done with another feed-forward\n",
        "layer ``attn``, using the decoder's input and hidden state as inputs.\n",
        "Because there are sentences of all sizes in the training data, to\n",
        "actually create and train this layer we have to choose a maximum\n",
        "sentence length (input length, for encoder outputs) that it can apply\n",
        "to. Sentences of the maximum length will use all the attention weights,\n",
        "while shorter sentences will only use the first few.\n",
        "\n",
        ".. figure:: /_static/img/seq-seq-images/attention-decoder-network.png\n",
        "   :alt:\n",
        "\n",
        "\n",
        "\n"
      ]
    },
    {
      "cell_type": "code",
      "execution_count": 42,
      "metadata": {
        "collapsed": false
      },
      "outputs": [],
      "source": [
        "class AttnDecoderRNN(nn.Module):\n",
        "    def __init__(self, hidden_size, output_size, dropout_p=0.1, max_length=MAX_LENGTH):\n",
        "        super(AttnDecoderRNN, self).__init__()\n",
        "        self.hidden_size = hidden_size\n",
        "        self.output_size = output_size\n",
        "        self.dropout_p = dropout_p\n",
        "        self.max_length = max_length\n",
        "\n",
        "        self.embedding = nn.Embedding(self.output_size, self.hidden_size)\n",
        "        self.attn = nn.Linear(self.hidden_size * 2, self.max_length)\n",
        "        self.attn_combine = nn.Linear(self.hidden_size * 2, self.hidden_size)\n",
        "        self.dropout = nn.Dropout(self.dropout_p)\n",
        "        self.gru = nn.GRU(self.hidden_size, self.hidden_size)\n",
        "        self.out = nn.Linear(self.hidden_size, self.output_size)\n",
        "\n",
        "    def forward(self, input, hidden, encoder_outputs):\n",
        "        embedded = self.embedding(input).view(1, 1, -1)\n",
        "        embedded = self.dropout(embedded)\n",
        "\n",
        "        attn_weights = F.softmax(\n",
        "            self.attn(torch.cat((embedded[0], hidden[0]), 1)), dim=1)\n",
        "        attn_applied = torch.bmm(attn_weights.unsqueeze(0),\n",
        "                                 encoder_outputs.unsqueeze(0))\n",
        "\n",
        "        output = torch.cat((embedded[0], attn_applied[0]), 1)\n",
        "        output = self.attn_combine(output).unsqueeze(0)\n",
        "\n",
        "        output = F.relu(output)\n",
        "        output, hidden = self.gru(output, hidden)\n",
        "\n",
        "        output = F.log_softmax(self.out(output[0]), dim=1)\n",
        "        return output, hidden, attn_weights\n",
        "\n",
        "    def initHidden(self):\n",
        "        return torch.zeros(1, 1, self.hidden_size, device=device)"
      ]
    },
    {
      "attachments": {},
      "cell_type": "markdown",
      "metadata": {},
      "source": [
        "<div class=\"alert alert-info\"><h4>Note</h4><p>There are other forms of attention that work around the length\n",
        "  limitation by using a relative position approach. Read about \"local\n",
        "  attention\" in [Effective Approaches to Attention-based Neural Machine\n",
        "  Translation](https://arxiv.org/abs/1508.04025)_.</p></div>\n",
        "\n",
        "## Training\n",
        "\n",
        "### Preparing Training Data\n",
        "\n",
        "To train, for each pair we will need an input tensor (indexes of the\n",
        "words in the input sentence) and target tensor (indexes of the words in\n",
        "the target sentence). While creating these vectors we will append the\n",
        "EOS token to both sequences.\n",
        "\n",
        "\n"
      ]
    },
    {
      "cell_type": "code",
      "execution_count": 43,
      "metadata": {
        "collapsed": false
      },
      "outputs": [],
      "source": [
        "def indexesFromSentence(lang:Lang, sentence):\n",
        "    # return [lang.word2index[word] for word in sentence.split(' ')]\n",
        "    # workaround\n",
        "    return [lang.word2index.get(word,lang.undetermined_code) for word in sentence.split(' ')]\n",
        "\n",
        "\n",
        "def tensorFromSentence(lang, sentence):\n",
        "    indexes = indexesFromSentence(lang, sentence)\n",
        "    indexes.append(EOS_token)\n",
        "    return torch.tensor(indexes, dtype=torch.long, device=device).view(-1, 1)\n",
        "\n",
        "\n",
        "def tensorsFromPair(pair):\n",
        "    input_tensor = tensorFromSentence(input_lang, pair[0])\n",
        "    target_tensor = tensorFromSentence(output_lang, pair[1])\n",
        "    return (input_tensor, target_tensor)"
      ]
    },
    {
      "attachments": {},
      "cell_type": "markdown",
      "metadata": {},
      "source": [
        "### Training the Model\n",
        "\n",
        "To train we run the input sentence through the encoder, and keep track\n",
        "of every output and the latest hidden state. Then the decoder is given\n",
        "the ``<SOS>`` token as its first input, and the last hidden state of the\n",
        "encoder as its first hidden state.\n",
        "\n",
        "\"Teacher forcing\" is the concept of using the real target outputs as\n",
        "each next input, instead of using the decoder's guess as the next input.\n",
        "Using teacher forcing causes it to converge faster but [when the trained\n",
        "network is exploited, it may exhibit\n",
        "instability](http://citeseerx.ist.psu.edu/viewdoc/download?doi=10.1.1.378.4095&rep=rep1&type=pdf)_.\n",
        "\n",
        "You can observe outputs of teacher-forced networks that read with\n",
        "coherent grammar but wander far from the correct translation -\n",
        "intuitively it has learned to represent the output grammar and can \"pick\n",
        "up\" the meaning once the teacher tells it the first few words, but it\n",
        "has not properly learned how to create the sentence from the translation\n",
        "in the first place.\n",
        "\n",
        "Because of the freedom PyTorch's autograd gives us, we can randomly\n",
        "choose to use teacher forcing or not with a simple if statement. Turn\n",
        "``teacher_forcing_ratio`` up to use more of it.\n",
        "\n",
        "\n"
      ]
    },
    {
      "cell_type": "code",
      "execution_count": 44,
      "metadata": {
        "collapsed": false
      },
      "outputs": [],
      "source": [
        "teacher_forcing_ratio = 0.5\n",
        "\n",
        "\n",
        "def train(input_tensor, target_tensor, encoder, decoder, encoder_optimizer, decoder_optimizer, criterion, max_length=MAX_LENGTH):\n",
        "    encoder_hidden = encoder.initHidden()\n",
        "\n",
        "    encoder_optimizer.zero_grad()\n",
        "    decoder_optimizer.zero_grad()\n",
        "\n",
        "    input_length = input_tensor.size(0)\n",
        "    target_length = target_tensor.size(0)\n",
        "\n",
        "    encoder_outputs = torch.zeros(max_length, encoder.hidden_size, device=device)\n",
        "\n",
        "    loss = 0\n",
        "\n",
        "    for ei in range(input_length):\n",
        "        encoder_output, encoder_hidden = encoder(\n",
        "            input_tensor[ei], encoder_hidden)\n",
        "        encoder_outputs[ei] = encoder_output[0, 0]\n",
        "\n",
        "    decoder_input = torch.tensor([[SOS_token]], device=device)\n",
        "\n",
        "    decoder_hidden = encoder_hidden\n",
        "\n",
        "    use_teacher_forcing = True if random.random() < teacher_forcing_ratio else False\n",
        "\n",
        "    if use_teacher_forcing:\n",
        "        # Teacher forcing: Feed the target as the next input\n",
        "        for di in range(target_length):\n",
        "            decoder_output, decoder_hidden, decoder_attention = decoder(\n",
        "                decoder_input, decoder_hidden, encoder_outputs)\n",
        "            loss += criterion(decoder_output, target_tensor[di])\n",
        "            decoder_input = target_tensor[di]  # Teacher forcing\n",
        "\n",
        "    else:\n",
        "        # Without teacher forcing: use its own predictions as the next input\n",
        "        for di in range(target_length):\n",
        "            decoder_output, decoder_hidden, decoder_attention = decoder(\n",
        "                decoder_input, decoder_hidden, encoder_outputs)\n",
        "            topv, topi = decoder_output.topk(1)\n",
        "            decoder_input = topi.squeeze().detach()  # detach from history as input\n",
        "\n",
        "            loss += criterion(decoder_output, target_tensor[di])\n",
        "            if decoder_input.item() == EOS_token:\n",
        "                break\n",
        "\n",
        "    loss.backward()\n",
        "\n",
        "    encoder_optimizer.step()\n",
        "    decoder_optimizer.step()\n",
        "\n",
        "    return loss.item() / target_length"
      ]
    },
    {
      "attachments": {},
      "cell_type": "markdown",
      "metadata": {},
      "source": [
        "This is a helper function to print time elapsed and estimated time\n",
        "remaining given the current time and progress %.\n",
        "\n",
        "\n"
      ]
    },
    {
      "cell_type": "code",
      "execution_count": 45,
      "metadata": {
        "collapsed": false
      },
      "outputs": [],
      "source": [
        "import time\n",
        "import math\n",
        "\n",
        "\n",
        "def asMinutes(s):\n",
        "    m = math.floor(s / 60)\n",
        "    s -= m * 60\n",
        "    return '%dm %ds' % (m, s)\n",
        "\n",
        "\n",
        "def timeSince(since, percent):\n",
        "    now = time.time()\n",
        "    s = now - since\n",
        "    es = s / (percent)\n",
        "    rs = es - s\n",
        "    return '%s (- %s)' % (asMinutes(s), asMinutes(rs))"
      ]
    },
    {
      "attachments": {},
      "cell_type": "markdown",
      "metadata": {},
      "source": [
        "The whole training process looks like this:\n",
        "\n",
        "-  Start a timer\n",
        "-  Initialize optimizers and criterion\n",
        "-  Create set of training pairs\n",
        "-  Start empty losses array for plotting\n",
        "\n",
        "Then we call ``train`` many times and occasionally print the progress (%\n",
        "of examples, time so far, estimated time) and average loss.\n",
        "\n",
        "\n"
      ]
    },
    {
      "cell_type": "code",
      "execution_count": 46,
      "metadata": {},
      "outputs": [],
      "source": [
        "import matplotlib.pyplot as plt\n",
        "plt.switch_backend('agg')\n",
        "import matplotlib.ticker as ticker\n",
        "import numpy as np\n",
        "\n",
        "\n",
        "def showPlot(points):\n",
        "    plt.figure()\n",
        "    fig, ax = plt.subplots()\n",
        "    # this locator puts ticks at regular intervals\n",
        "    loc = ticker.MultipleLocator(base=0.2)\n",
        "    ax.yaxis.set_major_locator(loc)\n",
        "    plt.plot(points)"
      ]
    },
    {
      "cell_type": "code",
      "execution_count": 47,
      "metadata": {
        "collapsed": false
      },
      "outputs": [],
      "source": [
        "def trainIters(encoder, decoder, n_iters, print_every=1000, plot_every=100, learning_rate=0.01):\n",
        "    start = time.time()\n",
        "    plot_losses = []\n",
        "    print_loss_total = 0  # Reset every print_every\n",
        "    plot_loss_total = 0  # Reset every plot_every\n",
        "\n",
        "    encoder_optimizer = optim.SGD(encoder.parameters(), lr=learning_rate)\n",
        "    decoder_optimizer = optim.SGD(decoder.parameters(), lr=learning_rate)\n",
        "    training_pairs = [tensorsFromPair(random.choice(pairs))\n",
        "                      for i in range(n_iters)]\n",
        "    criterion = nn.NLLLoss()\n",
        "\n",
        "    for iter in range(1, n_iters + 1):\n",
        "        training_pair = training_pairs[iter - 1]\n",
        "        input_tensor = training_pair[0]\n",
        "        target_tensor = training_pair[1]\n",
        "\n",
        "        loss = train(input_tensor, target_tensor, encoder,\n",
        "                     decoder, encoder_optimizer, decoder_optimizer, criterion)\n",
        "        print_loss_total += loss\n",
        "        plot_loss_total += loss\n",
        "\n",
        "        if iter % print_every == 0:\n",
        "            print_loss_avg = print_loss_total / print_every\n",
        "            print_loss_total = 0\n",
        "            print('%s (%d %d%%) %.4f' % (timeSince(start, iter / n_iters),\n",
        "                                         iter, iter / n_iters * 100, print_loss_avg))\n",
        "\n",
        "        if iter % plot_every == 0:\n",
        "            plot_loss_avg = plot_loss_total / plot_every\n",
        "            plot_losses.append(plot_loss_avg)\n",
        "            plot_loss_total = 0\n",
        "\n",
        "    showPlot(plot_losses)"
      ]
    },
    {
      "attachments": {},
      "cell_type": "markdown",
      "metadata": {},
      "source": [
        "### Plotting results\n",
        "\n",
        "Plotting is done with matplotlib, using the array of loss values\n",
        "``plot_losses`` saved while training.\n",
        "\n",
        "\n"
      ]
    },
    {
      "attachments": {},
      "cell_type": "markdown",
      "metadata": {},
      "source": [
        "## Evaluation\n",
        "\n",
        "Evaluation is mostly the same as training, but there are no targets so\n",
        "we simply feed the decoder's predictions back to itself for each step.\n",
        "Every time it predicts a word we add it to the output string, and if it\n",
        "predicts the EOS token we stop there. We also store the decoder's\n",
        "attention outputs for display later.\n",
        "\n",
        "\n"
      ]
    },
    {
      "cell_type": "code",
      "execution_count": 48,
      "metadata": {
        "collapsed": false
      },
      "outputs": [],
      "source": [
        "def evaluate(encoder, decoder, sentence, max_length=MAX_LENGTH):\n",
        "    with torch.no_grad():\n",
        "        input_tensor = tensorFromSentence(input_lang, sentence)\n",
        "        input_length = input_tensor.size()[0]\n",
        "        encoder_hidden = encoder.initHidden()\n",
        "\n",
        "        encoder_outputs = torch.zeros(max_length, encoder.hidden_size, device=device)\n",
        "\n",
        "        for ei in range(input_length):\n",
        "            encoder_output, encoder_hidden = encoder(input_tensor[ei],\n",
        "                                                     encoder_hidden)\n",
        "            encoder_outputs[ei] += encoder_output[0, 0]\n",
        "\n",
        "        decoder_input = torch.tensor([[SOS_token]], device=device)  # SOS\n",
        "\n",
        "        decoder_hidden = encoder_hidden\n",
        "\n",
        "        decoded_words = []\n",
        "        decoder_attentions = torch.zeros(max_length, max_length)\n",
        "\n",
        "        for di in range(max_length):\n",
        "            decoder_output, decoder_hidden, decoder_attention = decoder(\n",
        "                decoder_input, decoder_hidden, encoder_outputs)\n",
        "            decoder_attentions[di] = decoder_attention.data\n",
        "            topv, topi = decoder_output.data.topk(1)\n",
        "            if topi.item() == EOS_token:\n",
        "                decoded_words.append('<EOS>')\n",
        "                break\n",
        "            else:\n",
        "                decoded_words.append(output_lang.index2word[topi.item()])\n",
        "\n",
        "            decoder_input = topi.squeeze().detach()\n",
        "\n",
        "        return decoded_words, decoder_attentions[:di + 1]"
      ]
    },
    {
      "attachments": {},
      "cell_type": "markdown",
      "metadata": {},
      "source": [
        "We can evaluate random sentences from the training set and print out the\n",
        "input, target, and output to make some subjective quality judgements:\n",
        "\n",
        "\n"
      ]
    },
    {
      "cell_type": "code",
      "execution_count": 49,
      "metadata": {
        "collapsed": false
      },
      "outputs": [],
      "source": [
        "def evaluateRandomly(encoder, decoder, n=10):\n",
        "    for i in range(n):\n",
        "        pair = random.choice(pairs)\n",
        "        print('>', pair[0])\n",
        "        print('=', pair[1])\n",
        "        output_words, attentions = evaluate(encoder, decoder, pair[0])\n",
        "        output_sentence = ' '.join(output_words)\n",
        "        print('<', output_sentence)\n",
        "        print('')"
      ]
    },
    {
      "attachments": {},
      "cell_type": "markdown",
      "metadata": {},
      "source": [
        "## Training and Evaluating\n",
        "\n",
        "With all these helper functions in place (it looks like extra work, but\n",
        "it makes it easier to run multiple experiments) we can actually\n",
        "initialize a network and start training.\n",
        "\n",
        "Remember that the input sentences were heavily filtered. For this small\n",
        "dataset we can use relatively small networks of 256 hidden nodes and a\n",
        "single GRU layer. After about 40 minutes on a MacBook CPU we'll get some\n",
        "reasonable results.\n",
        "\n",
        ".. Note::\n",
        "   If you run this notebook you can train, interrupt the kernel,\n",
        "   evaluate, and continue training later. Comment out the lines where the\n",
        "   encoder and decoder are initialized and run ``trainIters`` again.\n",
        "\n",
        "\n"
      ]
    },
    {
      "cell_type": "code",
      "execution_count": 50,
      "metadata": {
        "collapsed": false
      },
      "outputs": [],
      "source": [
        "hidden_size = 512\n",
        "encoder1 = EncoderRNN(input_lang.n_words, hidden_size).to(device)\n",
        "attn_decoder1 = AttnDecoderRNN(hidden_size, output_lang.n_words, dropout_p=0.1).to(device)\n",
        "\n",
        "# path_enc = 'model_checkpoint/extractor_encoder2.pth'\n",
        "# path_dec = 'model_checkpoint/extractor_decoder2.pth'\n",
        "# encoder1.load_state_dict(torch.load(path_enc))\n",
        "# attn_decoder1.load_state_dict(torch.load(path_dec))"
      ]
    },
    {
      "cell_type": "code",
      "execution_count": 57,
      "metadata": {},
      "outputs": [
        {
          "name": "stdout",
          "output_type": "stream",
          "text": [
            "0m 7s (- 1m 6s) (10 10%) 4.4468\n",
            "0m 14s (- 0m 58s) (20 20%) 4.8844\n",
            "0m 23s (- 0m 55s) (30 30%) 3.8461\n",
            "0m 32s (- 0m 48s) (40 40%) 4.4399\n",
            "0m 39s (- 0m 39s) (50 50%) 4.4759\n",
            "0m 47s (- 0m 31s) (60 60%) 4.7927\n",
            "0m 53s (- 0m 23s) (70 70%) 4.8520\n",
            "1m 0s (- 0m 15s) (80 80%) 4.1644\n",
            "1m 7s (- 0m 7s) (90 90%) 4.2367\n",
            "1m 14s (- 0m 0s) (100 100%) 4.1710\n"
          ]
        }
      ],
      "source": [
        "# trainIters(encoder1, attn_decoder1, 75000, print_every=5000)\n",
        "# best loss can be less than 1\n",
        "# trainIters(encoder1, attn_decoder1, 10000, print_every=1000)\n",
        "trainIters(encoder1, attn_decoder1, 100, print_every=10,plot_every=10,learning_rate=0.01)\n",
        "# trainIters(encoder1, attn_decoder1, 200, print_every=20,plot_every=20,learning_rate=0.01)"
      ]
    },
    {
      "cell_type": "code",
      "execution_count": 54,
      "metadata": {},
      "outputs": [],
      "source": [
        "path_enc = 'model_checkpoint/extractor_encoder2.pth'\n",
        "path_dec = 'model_checkpoint/extractor_decoder2.pth'\n",
        "\n",
        "torch.save(encoder1.state_dict(), path_enc)\n",
        "torch.save(attn_decoder1.state_dict(), path_dec)"
      ]
    },
    {
      "cell_type": "code",
      "execution_count": 58,
      "metadata": {
        "collapsed": false
      },
      "outputs": [
        {
          "name": "stdout",
          "output_type": "stream",
          "text": [
            "> . | l, .  : unihakka international sdn bhd ) 11 jun 2018 18:32 (867388-u) | 12, jalan tampoi 7/4,kawasan perindustrian tampoi,81200 johor bahru, johor ) | taxinvoice . invoice # : or18061102170340 item qty total 2 sr 100100000015- vegetable rm1.03 4 rm4.12 , sr 100100000056-fried noodle (s) rm1.88 1 rm1.88 total amount: rm6.00 gst @0%: rm0.00 nett total: rm6.00 payment mode amount | | cash rm6.00 . change rmo.00 gst summary amount(rm) tax(rm) : sr = gst @0% 6.00 0.00 gst reg #000656195584 ) bar wang rice@permas jaya thank you & come again! e like and follow us on facebook! - facebook.com/barwangrice\n",
            "= {'company': 'unihakka international sdn bhd', 'date': '11 jun 2018', 'address': '12, jalan tampoi 7/4,kawasan perindustrian tampoi,81200 johor bahru,johor', 'total': 'rm6.00'}\n",
            "< {'company': 'unihakka international sdn bhd', 'date': 'date': 'address': 'lot 'lot jalan jalan tampoi 7/4,kawasan perindustrian tampoi,81200 johor bahru,johor', 'total': 'total': <EOS>\n",
            "\n",
            "> fo3aq! perniagaan zheng hii jm0326955-v no.89 jalan permas 9/6 bandar baru permas jaya 81750 johor bahru tel: 07-386 7524 fax: 07-386 3792 gst no : n0dgooss9824 simplified tax invoice gosantengineering(mjsonbhd receipt 0800084670 salesperson: date: 09/03/2018 cashier. user time: 08:49:00 nn tem qty _rsp__ amount 40278 ga iol 1 170.00 170.0 sr. 14\" tru-cut cutting disc (1 pc) 2547 a 1801 1 35.00 36.00 sr: kobelgo g-12h(2.6mm) welding 12133 gas! 2 7.60 45.00 sr: cs 3\" (760) paint brush 40187 qaigel 2 6.60 41.00 sr: c5 2\" (760) paint brush 12134 qpiet 1 3.60 3.8c sr: cs 1-1/2\" (750) paint brush 9556762618725 gr 1801 4 26,00 26.0c sr! 2\" lambwool yanda roller refil- 20 pcs 2228 grigol 1 6.00 6.0c sr: diamond cotton glove 8104 3879 gath 6 4,00 5.00 sr: 10# welding glass (black) 1pcs 3680 gago! 10 0.30 3.0c sr: welding glass (glear) 1 pc ssssosego0egs gage! 2 8.00 16.00 sr aec broom no.5710# cav iron handle  6831 geihoi 2 1200 24 0c sr: sisteel dust pan l cav handle 23 x 28 x <otqty, geo sosc~s se (excluded gst) sub total (rm) 313.50 discount(rm) + 000 total gst (rm) 18.81 . rounding (rm) = -0.01 total (rm) : 332.30 gash : 382.30 change (rm) : 0.00 gst summary _jexgode amount gbt sr 6 313.50 1681 total 818.80 18.84 goods sold are not returnable, thank you\n",
            "= {'company': 'perniagaan zheng hui', 'date': '09/03/2018', 'address': 'no.59 jalan permas 9/5 bandar baru permas jaya 81750 johor bahru', 'total': '332.30'}\n",
            "< {'company': 'unihakka international sdn bhd', 'date': 'date': 'address': 'lot 'lot jalan jalan tampoi 7/4,kawasan perindustrian tampoi,81200 johor bahru,johor', 'total': 'total': <EOS>\n",
            "\n",
            "> o aeon co. (m) bhd (126926-h) 3rd flr, aeon taman maluri sc jln jejaka, taman malurt cheras, 55100 kuala lumpur gst id : 002017394688 shopping hours mon-sun; 1000 hrs - 2200 hrs  000008190901 5.90sr ~~ sterile filtrat sub-total 5.90 total sales incl gst 5.40 total after adj incl gst 5.90 cash 10.00 item count 1 change amt 4.10 invoice no: 2018020951320023885 gst summary amount tax sr @ 64 5.57 0.33 total 5,57 0,33 09/02/2018 12:53 5132 002 0023885 0301371 norsham binti ahamed sha daiso sunhay velocity tel. 1-300-80-aeon (2366) thank you for your patronage please come again elen ichadielaal a |\n",
            "= {'company': 'aeon co. (m) bhd', 'date': '09/02/2018', 'address': '3rd flr, aeon taman maluri sc jln jejaka, taman maluri cheras, 55100 kuala lumpur', 'total': '5.90'}\n",
            "< {'company': 'unihakka international sdn bhd', 'date': 'date': 'address': 'lot 'address': 'lot jalan jalan tampoi 7/4,kawasan perindustrian tampoi,81200 johor bahru,johor', 'total': 'total': <EOS>\n",
            "\n",
            "> f. 9 99 speed mart s/b (519537-x) lot p.t. 2811, jalan angsa, taman berkeley 41150 klang, selangor 1237-thn indah perdana gst id. no : 000181747712 invoice no s 18418/102/t0242 0s: 8pm 568268 04-06-18 $20 carnation susu krimer $ rms.00 z @2 x rm 2.50 (715 knorr chicken stock 1k = rmis.90 z total sales rm = 20.90 cash rm = 21,00 change rm if gst summary amount (rm) tax(rm) z = 04 20.90 +00 thank you. please come again keep the invoice for applicable returns\n",
            "= {'company': '99 speed mart s/b', 'date': '04-06-18', 'address': 'lot p.t. 2811, jalan angsa, taman berkeley 41150 klang, selangor 1237-tmn indah perdana', 'total': '20.90'}\n",
            "< {'company': 'unihakka international sdn bhd', 'date': 'date': 'address': 'lot 'lot jalan jalan tampoi 7/4,kawasan perindustrian tampoi,81200 johor bahru,johor', 'total': 'total': <EOS>\n",
            "\n",
            "> sanyo stationery shop no. 31g&33g, jalan setia indah x\\ui3/% 40170 setia alam s mobile /whatsapps : +6012-918 7937, tel: +603-3362 4137 3 sst id no: 001531760640 sn ee - tax invoice owned by: sanyu supply son bho (1135772-k) cash sales counter 1, s000-0001 \"photocopy services ad size 100 x 6.1000  10.00 sr 2. 9100-0067 cutting charges 2.0000 a 2.00 sr total sales inclusive gst @6% ~~ ==~~ad cs discount 6.00 fotal 12.00 round adj 0.00 finaltotai ===. cash 15.00 change 3.00 gst summary amount{rm) tax(rm} sr @ 6% 11.32 0.68 inv no: cs-sa-0112280 date: 20/09/2017 goods sold are not returnable & refundable thank you for your patronage please come again terima kasih sila d4) ang lagi ** please keep this receip | for prove of | purchase date for 1.7 product warranty purpose ** follow us in facebook : sanyu.stationery\n",
            "= {'company': 'sanyu stationery shop', 'date': '20/09/2017', 'address': 'no. 31g&33g, jalan setia indah x ,u13/x 40170 setia alam', 'total': '12.00'}\n",
            "< {'company': 'unihakka international sdn bhd', 'date': 'date': 'address': 'lot 'address': 'lot jalan jalan tampoi 7/4,kawasan perindustrian tampoi,81200 johor bahru,johor', 'total': 'total': <EOS>\n",
            "\n",
            "> sanyo stationery shop no. 31g&33g, jalan setia indah x ,u13/x 40170 setia alam mobile /whatsapps : +6012-918 7937 tel: +603-3362 4137 38 : 0015317606 gst id pe 001531760640 tax invoice owned by : = sanyu supply sdn bhd (1135772-k) cash sales counter - 1, 2012-0028 restaurant order chit ncr s:5x63 2 x 2.9000 = 5.80. sr total sales inclusive gst @6% 5.80 discount 0.00 total 5.80 round adj 0.00 finaltotal 5.80 cash 6.00 changsz 0.20  gst summary amount(rm) tax(rm)} sr @ 6% 5.47 0.33 inv no: cs-sa-0086778. date: 24/05/2017 goods sold are not returnable & refundable thank you for your patronage please come again. terima kasih sila datang lag! ** please keep this receipt for prove of purchase date for i.t product warranty purpose ** follow usin facebook : sanyu.stationery\n",
            "= {'company': 'sanyu stationery shop', 'date': '24/05/2017', 'address': 'no. 31g&33g, jalan setia indah x ,u13/x 40170 setia alam', 'total': '5.80'}\n",
            "< {'company': 'unihakka international sdn bhd', 'date': 'date': 'address': 'lot 'lot jalan jalan tampoi 7/4,kawasan perindustrian tampoi,81200 johor bahru,johor', 'total': 'total': <EOS>\n",
            "\n",
            "> bf uf os no a 7 se br en pek hear be  fe fb sieur tnenara, crewacler ia seed anzel advertising (m1) sdn phd (758795-h} lint (s58 grind dane wiema lid fh} unit g-58, grating flear, wisma uoa hl, ne #1, jalan pinang, 50456 4uala lumpur, malaysia vel: 03-2163 2760 7 03-2104 g7ae sst ne: oos1217220r6 tse cash shes ho. :uda-ge1sc41575 1 gty rm tex 48 bw simili 28am 2 7.60 7.42 sf 1.06 a sy total amt incl gst @ 8% - 7.42 rounding adjusiment : {0.01} paid amount: 19.05 change: 2.60 teste! fon- tender: oa thank yo: tomb ariarcar tiny alas ilies por any enquiry, plasse emai! us: a wwiwi.exorntshos.can f e: expintuoski@iamall.com ng43am 24 march 3075 4 ues am, 27 march, 2072 be see ee ee eee eee oy ; gst summary amount tax ! is (ri) (roy ! es ee ee em om es \"sr@a 7.00 0.42! je reece ee ae ee total 3.00 0.43! ee ee thank you  foreny enquiry, please e-meil us ine ! ea < i e a bes. ves 2uona0is 02:13:51 {lg neo\n",
            "= {'company': 'anzel advertising (m) sdn bhd', 'date': '21/03/2018', 'address': 'unit g-5b, ground floor, wisma uoa ii, no 21, jalan pinang, 50450 kuala lumpur, malaysia', 'total': '7.40'}\n",
            "< {'company': 'unihakka international sdn bhd', 'date': 'date': 'address': 'lot 'address': 'lot jalan jalan tampoi 7/4,kawasan perindustrian tampoi,81200 johor bahru,johor', 'total': 'total': <EOS>\n",
            "\n",
            "> papparich bmc no.19 & 21 jalan temenggung 23/9 bandar ma!'kota cheras | 43200 selangor darul ehsan, malaysia tax invoice gt idd000164270080 2 counter] 2003 sai ful chk 274898 guest | 15 jun 18 08:34:31 pm tbl35 / 1 1 b02 half bl egg e 4.53  1 bo3 hnn tst+b+k e 5.57  1 di9 cham (1) e 5.57  cash zz. .00 15.67 subtotal 15.67 10% srv chg 198 total: 17.22 rnd adj 0.02- ttl atf rnd 17.20 payment 20.00 change due 2.80 --~-2003 closed 15 jun 18 09:08:37 pm---- thank you! please come again! gst at 0% gstsummary amount(rm) gstcrm) $=gst @o%: 17.20 0.00 z=gst @0%: 0.00 0.00\n",
            "= {'company': 'papparich bmc', 'date': '15 jun 18', 'address': 'no.19 & 21 jalan temenggung 23/9 bandar mahkota cheras 43200 selangor darul ehsan, malaysia', 'total': '17.22'}\n",
            "< {'company': 'unihakka international sdn bhd', 'date': 'date': 'address': 'lot 'address': 'lot jalan jalan tampoi 7/4,kawasan perindustrian tampoi,81200 johor bahru,johor', 'total': 'total': <EOS>\n",
            "\n",
            "> sushi mentai - mahkota cheras mizu mental sdn. bhd. (1248446-v) no; 1-1&2 ground floor, jln temenggung 13/9, 43200 cheras selangor. (gst reg. no : 001375580160) tax invoice table 9 order#: 120820 bill#: vo42- 520388 pax(s): 0 date +; 04-06-2018 18:11:23 cashier: sofya description qty  u.price total tax bl green tea 3 xx 1.00 3.00 sr j2 unagi temaki 1 x 5,80 5,80 sr r5 tori teriyaki don | x 12,80 12.80 sr n8 shiro ramen pap. 12.80 25.60 sr $b01 sushi yellow 5 x 1.80 9.00 sr b02 sushi red 2 xx 2.80 5.60 sr tota) (excluding gst): 61.80 serv. charge (10%): 6.18 total (inclusive of gst): 67.98 rounding adj: 0,02 closed: ;201710016 04-06-2018 18:55:23 server: sofya visa 68.00 gst summary amount(rm)  tax(rm) sr (@ 0%) 67.98 0,00 thank you!!! please come again!!! powered by www.sispos.com.my\n",
            "= {'company': 'mizu mentai sdn. bhd.', 'date': '04-06-2018', 'address': 'no: 1-1&2 ground floor, jln temenggung 13/9, 43200 cheras selangor.', 'total': '68.00'}\n",
            "< {'company': 'unihakka international sdn bhd', 'date': 'date': 'address': 'lot 'lot jalan jalan tampoi 7/4,kawasan perindustrian tampoi,81200 johor bahru,johor', 'total': 'total': <EOS>\n",
            "\n",
            "> , we cylass ; jimart@sp3 ogn group sdn bhd roc: 1026984-x no.29m, jalan dinar g u3/g, seksyen u3, subang perdana, 40150 shah alam 013-336 3999 gst reg no: 002077622272 tax invoice invoice no: $p3-01-148852 date : 24/06/2018 4:37:37 pm cashier : jimart descriptior qty price amount tsr 08091527474 rhomb scissors 4\" 2040 2 sr 1050901900021 4 7.45 7.45 sharpening stone 108#8 3. sr 9555047307540 1 4.62 4.62 lava water jug 2.25l 4 sr 24900007 12 2.74 32.88 glass w/flower lg10001 total item discount total sales inclusive gst@ 0.00% 52.40 rounding adjustment: 0.00 total : 52.40 cash 55.00 change : a ts gst summary % amount(rm) tax(rm) sr 0.00 52.40 0.00 ilove jimart  . goods sold are not returnable thank you.please come again.\n",
            "= {'company': 'ogn group sdn bhd', 'date': '24/06/2018', 'address': 'no.29m, jalan dinar g u3/g, seksyen u3, subang perdana, 40150 shah alam', 'total': '52.40'}\n",
            "< {'company': 'unihakka international sdn bhd', 'date': 'date': 'address': 'lot 'address': 'lot jalan jalan tampoi 7/4,kawasan perindustrian tampoi,81200 johor bahru,johor', 'total': 'total': <EOS>\n",
            "\n"
          ]
        }
      ],
      "source": [
        "evaluateRandomly(encoder1, attn_decoder1)"
      ]
    },
    {
      "attachments": {},
      "cell_type": "markdown",
      "metadata": {},
      "source": [
        "### Visualizing Attention\n",
        "\n",
        "A useful property of the attention mechanism is its highly interpretable\n",
        "outputs. Because it is used to weight specific encoder outputs of the\n",
        "input sequence, we can imagine looking where the network is focused most\n",
        "at each time step.\n",
        "\n",
        "You could simply run ``plt.matshow(attentions)`` to see attention output\n",
        "displayed as a matrix, with the columns being input steps and rows being\n",
        "output steps:\n",
        "\n",
        "\n"
      ]
    },
    {
      "cell_type": "code",
      "execution_count": null,
      "metadata": {
        "collapsed": false
      },
      "outputs": [
        {
          "name": "stdout",
          "output_type": "stream",
          "text": [
            "tan woon yann book ta -k (taman daya) sdn bhd 789417-w no.5? $5,57 & 59, jalan sagu 18, taman daya 81100 johor bahru. johor. 1 | \" ug gao document no tdo1167104 date 25/12/2018 8:13:39 pm cashier manis member cash bill code/desc price dise amouiht qly rm rm 9556929040116 kf modelling clay kiddy fish : 1 pc * 9.00) 0,00 9.00 total : 91.00 rour ding adjustment 0.00 round. :d total (rm): 9.00 cash oy 40.00. change 00 00 goods sold are not returnar ak exchangeable mat, sema i thank you please come again t\n"
          ]
        }
      ],
      "source": [
        "text = pairs[0][0]\n",
        "print(text)\n",
        "output_words, attentions = evaluate(\n",
        "    encoder1, attn_decoder1, text)\n",
        "# plt.matshow(attentions.numpy())"
      ]
    },
    {
      "attachments": {},
      "cell_type": "markdown",
      "metadata": {},
      "source": [
        "For a better viewing experience we will do the extra work of adding axes\n",
        "and labels:\n",
        "\n",
        "\n"
      ]
    },
    {
      "cell_type": "code",
      "execution_count": null,
      "metadata": {
        "collapsed": false
      },
      "outputs": [],
      "source": [
        "def showAttention(input_sentence, output_words, attentions):\n",
        "    # Set up figure with colorbar\n",
        "    fig = plt.figure()\n",
        "    ax = fig.add_subplot(111)\n",
        "    cax = ax.matshow(attentions.numpy(), cmap='bone')\n",
        "    fig.colorbar(cax)\n",
        "\n",
        "    # Set up axes\n",
        "    ax.set_xticklabels([''] + input_sentence.split(' ') +\n",
        "                       ['<EOS>'], rotation=90)\n",
        "    ax.set_yticklabels([''] + output_words)\n",
        "\n",
        "    # Show label at every tick\n",
        "    ax.xaxis.set_major_locator(ticker.MultipleLocator(1))\n",
        "    ax.yaxis.set_major_locator(ticker.MultipleLocator(1))\n",
        "\n",
        "    plt.show()\n",
        "\n",
        "\n",
        "def evaluateAndShowAttention(input_sentence):\n",
        "    output_words, attentions = evaluate(\n",
        "        encoder1, attn_decoder1, input_sentence)\n",
        "    print('input =', input_sentence)\n",
        "    print('output =', ' '.join(output_words))\n",
        "    showAttention(input_sentence, output_words, attentions)\n",
        "\n",
        "# evaluateAndShowAttention(\"elle a cinq ans de moins que moi .\")\n",
        "# evaluateAndShowAttention(\"elle est trop petit .\")\n",
        "# evaluateAndShowAttention(\"je ne crains pas de mourir .\")\n",
        "# evaluateAndShowAttention(\"c est un jeune directeur plein de talent .\")"
      ]
    },
    {
      "attachments": {},
      "cell_type": "markdown",
      "metadata": {},
      "source": [
        "## Exercises\n",
        "\n",
        "-  Try with a different dataset\n",
        "\n",
        "   -  Another language pair\n",
        "   -  Human → Machine (e.g. IOT commands)\n",
        "   -  Chat → Response\n",
        "   -  Question → Answer\n",
        "\n",
        "-  Replace the embeddings with pretrained word embeddings such as ``word2vec`` or\n",
        "   ``GloVe``\n",
        "-  Try with more layers, more hidden units, and more sentences. Compare\n",
        "   the training time and results.\n",
        "-  If you use a translation file where pairs have two of the same phrase\n",
        "   (``I am test \\t I am test``), you can use this as an autoencoder. Try\n",
        "   this:\n",
        "\n",
        "   -  Train as an autoencoder\n",
        "   -  Save only the Encoder network\n",
        "   -  Train a new Decoder for translation from there\n",
        "\n",
        "\n"
      ]
    }
  ],
  "metadata": {
    "kernelspec": {
      "display_name": "Python 3",
      "language": "python",
      "name": "python3"
    },
    "language_info": {
      "codemirror_mode": {
        "name": "ipython",
        "version": 3
      },
      "file_extension": ".py",
      "mimetype": "text/x-python",
      "name": "python",
      "nbconvert_exporter": "python",
      "pygments_lexer": "ipython3",
      "version": "3.10.11"
    }
  },
  "nbformat": 4,
  "nbformat_minor": 0
}
