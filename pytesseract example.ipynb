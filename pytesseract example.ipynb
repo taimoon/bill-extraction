{
 "cells": [
  {
   "cell_type": "code",
   "execution_count": 1,
   "metadata": {},
   "outputs": [],
   "source": [
    "from PIL import Image\n",
    "import pytesseract\n",
    "import pandas as pd\n",
    "import numpy as np\n",
    "import json"
   ]
  },
  {
   "cell_type": "code",
   "execution_count": 2,
   "metadata": {},
   "outputs": [],
   "source": [
    "import configparser\n",
    "config = configparser.ConfigParser()\n",
    "config.read('config.ini')\n",
    "pytesseract.pytesseract.tesseract_cmd = config['DEFAULT']['tesseract_cmd']\n",
    "custom_config = config['DEFAULT']['tesseract_config']"
   ]
  },
  {
   "cell_type": "code",
   "execution_count": 3,
   "metadata": {},
   "outputs": [
    {
     "name": "stdout",
     "output_type": "stream",
     "text": [
      "tan woon yann\n",
      "BOOK TA -K (TAMAN DAYA) SDN BHD\n",
      "789417-W\n",
      "NO.5? $5,57 & 59, JALAN SAGU 18,\n",
      "TAMAN DAYA\n",
      "81100 JOHOR BAHRU.\n",
      "JOHOR.\n",
      "1 | \"\n",
      "UG GAO\n",
      "Document No TDO1167104\n",
      "Date 25/12/2018 8:13:39 PM\n",
      "Cashier MANIS\n",
      "Member\n",
      "CASH BILL\n",
      "CODE/DESC PRICE Dise AMOUIHT\n",
      "Qly RM RM\n",
      "9556929040116 KF MODELLING CLAY KIDDY FISH :\n",
      "1 PC * 9.00) 0,00 9.00\n",
      "Total : 91.00\n",
      "Rour ding Adjustment 0.00\n",
      "Round. :d Total (RM): 9.00\n",
      "Cash oy 40.00.\n",
      "CHANGE 00\n",
      "00\n",
      "GOODS SOLD ARE NOT RETURNAR aK\n",
      "EXCHANGEABLE\n",
      "MAT, SEMA I\n",
      "THANK YOU\n",
      "PLEASE COME AGAIN t\n",
      "\n"
     ]
    }
   ],
   "source": [
    "img_path = r'ICDAR-2019-SROIE\\data\\img\\000.jpg'\n",
    "img = Image.open(img_path)\n",
    "text = pytesseract.image_to_string(img,config=custom_config)\n",
    "print(text)"
   ]
  },
  {
   "cell_type": "code",
   "execution_count": 4,
   "metadata": {},
   "outputs": [
    {
     "data": {
      "text/plain": [
       "\"{'company': 'BOOK TA .K (TAMAN DAYA) SDN BHD', 'date': '25/12/2018', 'address': 'NO.53 55,57 & 59, JALAN SAGU 18, TAMAN DAYA, 81100 JOHOR BAHRU, JOHOR.', 'total': '9.00'}\""
      ]
     },
     "execution_count": 4,
     "metadata": {},
     "output_type": "execute_result"
    }
   ],
   "source": [
    "label_path = r'ICDAR-2019-SROIE\\data\\key\\000.json'\n",
    "\n",
    "with open(label_path) as fp:\n",
    "    label = json.load(fp)\n",
    "entities = list(label.keys())\n",
    "str(label)"
   ]
  },
  {
   "cell_type": "code",
   "execution_count": 5,
   "metadata": {},
   "outputs": [
    {
     "data": {
      "text/html": [
       "<div>\n",
       "<style scoped>\n",
       "    .dataframe tbody tr th:only-of-type {\n",
       "        vertical-align: middle;\n",
       "    }\n",
       "\n",
       "    .dataframe tbody tr th {\n",
       "        vertical-align: top;\n",
       "    }\n",
       "\n",
       "    .dataframe thead th {\n",
       "        text-align: right;\n",
       "    }\n",
       "</style>\n",
       "<table border=\"1\" class=\"dataframe\">\n",
       "  <thead>\n",
       "    <tr style=\"text-align: right;\">\n",
       "      <th></th>\n",
       "      <th>0</th>\n",
       "      <th>1</th>\n",
       "      <th>2</th>\n",
       "      <th>3</th>\n",
       "      <th>4</th>\n",
       "      <th>5</th>\n",
       "      <th>6</th>\n",
       "      <th>7</th>\n",
       "      <th>8</th>\n",
       "    </tr>\n",
       "  </thead>\n",
       "  <tbody>\n",
       "    <tr>\n",
       "      <th>0</th>\n",
       "      <td>72</td>\n",
       "      <td>25</td>\n",
       "      <td>326</td>\n",
       "      <td>25</td>\n",
       "      <td>326</td>\n",
       "      <td>64</td>\n",
       "      <td>72</td>\n",
       "      <td>64</td>\n",
       "      <td>TAN WOON YANN</td>\n",
       "    </tr>\n",
       "    <tr>\n",
       "      <th>1</th>\n",
       "      <td>50</td>\n",
       "      <td>82</td>\n",
       "      <td>440</td>\n",
       "      <td>82</td>\n",
       "      <td>440</td>\n",
       "      <td>121</td>\n",
       "      <td>50</td>\n",
       "      <td>121</td>\n",
       "      <td>BOOK TA .K(TAMAN DAYA) SDN BND</td>\n",
       "    </tr>\n",
       "    <tr>\n",
       "      <th>2</th>\n",
       "      <td>205</td>\n",
       "      <td>121</td>\n",
       "      <td>285</td>\n",
       "      <td>121</td>\n",
       "      <td>285</td>\n",
       "      <td>139</td>\n",
       "      <td>205</td>\n",
       "      <td>139</td>\n",
       "      <td>789417-W</td>\n",
       "    </tr>\n",
       "    <tr>\n",
       "      <th>3</th>\n",
       "      <td>110</td>\n",
       "      <td>144</td>\n",
       "      <td>383</td>\n",
       "      <td>144</td>\n",
       "      <td>383</td>\n",
       "      <td>163</td>\n",
       "      <td>110</td>\n",
       "      <td>163</td>\n",
       "      <td>NO.53 55,57 &amp; 59, JALAN SAGU 18</td>\n",
       "    </tr>\n",
       "    <tr>\n",
       "      <th>4</th>\n",
       "      <td>192</td>\n",
       "      <td>169</td>\n",
       "      <td>299</td>\n",
       "      <td>169</td>\n",
       "      <td>299</td>\n",
       "      <td>187</td>\n",
       "      <td>192</td>\n",
       "      <td>187</td>\n",
       "      <td>TAMAN DAYA</td>\n",
       "    </tr>\n",
       "  </tbody>\n",
       "</table>\n",
       "</div>"
      ],
      "text/plain": [
       "     0    1    2    3    4    5    6    7                                8\n",
       "0   72   25  326   25  326   64   72   64                    TAN WOON YANN\n",
       "1   50   82  440   82  440  121   50  121   BOOK TA .K(TAMAN DAYA) SDN BND\n",
       "2  205  121  285  121  285  139  205  139                         789417-W\n",
       "3  110  144  383  144  383  163  110  163  NO.53 55,57 & 59, JALAN SAGU 18\n",
       "4  192  169  299  169  299  187  192  187                       TAMAN DAYA"
      ]
     },
     "execution_count": 5,
     "metadata": {},
     "output_type": "execute_result"
    }
   ],
   "source": [
    "box_path = r'ICDAR-2019-SROIE\\data\\box\\000.csv'\n",
    "import csv\n",
    "with open(box_path, \"r\") as fp:\n",
    "    reader = csv.reader(fp, delimiter=\",\")\n",
    "    ## arranging dataframe index ,coordinates x1_1,y1_1,x2_1,y2_1,x3_1,y3_1,x4_1,y4_1, transcript\n",
    "    rows = [x[:8] + [','.join(x[8:]).strip(',')] for x in reader] \n",
    "    df = pd.DataFrame(rows)\n",
    "df.head()"
   ]
  },
  {
   "cell_type": "code",
   "execution_count": 6,
   "metadata": {},
   "outputs": [
    {
     "name": "stdout",
     "output_type": "stream",
     "text": [
      "[[ 72  25]\n",
      " [326  25]\n",
      " [326  64]\n",
      " [ 72  64]]\n",
      "(72, 25, 326, 64)\n",
      "tan woon yann\n",
      "\n"
     ]
    },
    {
     "data": {
      "image/png": "[encoded data removed]",
      "text/plain": [
       "<PIL.Image.Image image mode=RGB size=254x39>"
      ]
     },
     "execution_count": 6,
     "metadata": {},
     "output_type": "execute_result"
    }
   ],
   "source": [
    "coords = np.array(df.iloc[0][:-1],int).reshape(-1,2)\n",
    "print(coords)\n",
    "\n",
    "coords = coords[[0,2]]\n",
    "coords = tuple(coords.reshape(-1))\n",
    "print(coords)\n",
    "\n",
    "text = pytesseract.image_to_string(img.crop(coords),config=custom_config)\n",
    "print(text)\n",
    "img.crop(coords)"
   ]
  }
 ],
 "metadata": {
  "kernelspec": {
   "display_name": "Python 3",
   "language": "python",
   "name": "python3"
  },
  "language_info": {
   "codemirror_mode": {
    "name": "ipython",
    "version": 3
   },
   "file_extension": ".py",
   "mimetype": "text/x-python",
   "name": "python",
   "nbconvert_exporter": "python",
   "pygments_lexer": "ipython3",
   "version": "3.10.11"
  },
  "orig_nbformat": 4
 },
 "nbformat": 4,
 "nbformat_minor": 2
}
